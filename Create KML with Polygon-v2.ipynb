{
 "cells": [
  {
   "cell_type": "code",
   "execution_count": 1,
   "metadata": {},
   "outputs": [],
   "source": [
    "import simplekml\n",
    "import teradata\n",
    "import pandas as pd\n",
    "from shapely.geometry import Polygon, Point"
   ]
  },
  {
   "cell_type": "code",
   "execution_count": 2,
   "metadata": {},
   "outputs": [],
   "source": [
    "from matplotlib import pyplot as plt\n",
    "import geopandas as gpd\n",
    "from shapely.geometry import Polygon\n",
    "from shapely.ops import cascaded_union\n",
    "\n",
    "import pandas as pd\n",
    "import numpy as np\n",
    "\n",
    "import re"
   ]
  },
  {
   "cell_type": "code",
   "execution_count": 3,
   "metadata": {},
   "outputs": [],
   "source": [
    "#Teradata Connect\n",
    "password = 'um6lrq9ecek'\n",
    "udaExec = teradata.UdaExec (appName=\"HelloWorld\", version=\"1.0\",\n",
    "                            logConsole=False)\n",
    "session = udaExec.connect(method=\"odbc\", system='td2800.corp.tele2.ru', username =\"ZMITROCHENKO_EA\", password=password,\n",
    "                          driver=\"Teradata\", charset='utf8')"
   ]
  },
  {
   "cell_type": "markdown",
   "metadata": {},
   "source": [
    "### Load from Teradata"
   ]
  },
  {
   "cell_type": "code",
   "execution_count": 25,
   "metadata": {},
   "outputs": [
    {
     "name": "stdout",
     "output_type": "stream",
     "text": [
      "Wall time: 6.32 s\n"
     ]
    }
   ],
   "source": [
    "%%time\n",
    "df = pd.read_sql(\n",
    "\"\"\"select \n",
    "ne_id osm_id, level_name gks_pop, --cover_poly.ST_AsText() b,\n",
    "geodata.ST_AsText() b,\n",
    "'санкт петербург' reg_name\n",
    ", 'ttt' name_tag\n",
    ",1 WM_ID\n",
    "from \n",
    "prd2_bds_v.detail_geodata_cover poly\n",
    "where 1=1\n",
    "and poly.ne_id --=592202362\n",
    "in (\n",
    "\n",
    "select distinct ne_id\n",
    "from \n",
    "prd2_dds_v.network_element net_el\n",
    "where 1=1\n",
    "and (parent_ne_id = 193170012573 or ne_id = 193170012573)\n",
    "--and ne_name like '%MO5940%'\n",
    "and net_el.report_date = (select max(report_date) from prd2_dds_v.network_element )\n",
    ")\"\"\", con=session)"
   ]
  },
  {
   "cell_type": "code",
   "execution_count": 5,
   "metadata": {},
   "outputs": [
    {
     "name": "stdout",
     "output_type": "stream",
     "text": [
      "Wall time: 5.35 s\n"
     ]
    }
   ],
   "source": [
    "%%time\n",
    "df1 = pd.read_sql(\"\"\"select * from uat_dm.zm_network_element_full_poly \n",
    "where 1=1\n",
    "and bs_name = 'KE1082'\"\"\", con=session)"
   ]
  },
  {
   "cell_type": "code",
   "execution_count": 6,
   "metadata": {},
   "outputs": [
    {
     "data": {
      "text/html": [
       "<div>\n",
       "<style scoped>\n",
       "    .dataframe tbody tr th:only-of-type {\n",
       "        vertical-align: middle;\n",
       "    }\n",
       "\n",
       "    .dataframe tbody tr th {\n",
       "        vertical-align: top;\n",
       "    }\n",
       "\n",
       "    .dataframe thead th {\n",
       "        text-align: right;\n",
       "    }\n",
       "</style>\n",
       "<table border=\"1\" class=\"dataframe\">\n",
       "  <thead>\n",
       "    <tr style=\"text-align: right;\">\n",
       "      <th></th>\n",
       "      <th>BS_NAME</th>\n",
       "      <th>NE_ID</th>\n",
       "      <th>STECHNOLOGY</th>\n",
       "      <th>LEVEL_NAME</th>\n",
       "      <th>EFFECTIVE_TO</th>\n",
       "      <th>COVER_POLY</th>\n",
       "      <th>REGION_ID</th>\n",
       "    </tr>\n",
       "  </thead>\n",
       "  <tbody>\n",
       "    <tr>\n",
       "      <th>0</th>\n",
       "      <td>KE1082</td>\n",
       "      <td>4.617911e+10</td>\n",
       "      <td>4G</td>\n",
       "      <td>indoor</td>\n",
       "      <td>2999-12-31</td>\n",
       "      <td>POLYGON ((87.897091104280648 52.75930218109225...</td>\n",
       "      <td>29.0</td>\n",
       "    </tr>\n",
       "    <tr>\n",
       "      <th>1</th>\n",
       "      <td>KE1082</td>\n",
       "      <td>4.617911e+10</td>\n",
       "      <td>2G</td>\n",
       "      <td>deep indoor</td>\n",
       "      <td>2999-12-31</td>\n",
       "      <td>POLYGON ((87.91687825701085 52.749265707631572...</td>\n",
       "      <td>29.0</td>\n",
       "    </tr>\n",
       "    <tr>\n",
       "      <th>2</th>\n",
       "      <td>KE1082</td>\n",
       "      <td>4.617911e+10</td>\n",
       "      <td>2G</td>\n",
       "      <td>incar</td>\n",
       "      <td>2999-12-31</td>\n",
       "      <td>POLYGON ((87.776533961619052 52.6855647389648,...</td>\n",
       "      <td>29.0</td>\n",
       "    </tr>\n",
       "    <tr>\n",
       "      <th>3</th>\n",
       "      <td>KE1082</td>\n",
       "      <td>4.617911e+10</td>\n",
       "      <td>2G</td>\n",
       "      <td>outdoor</td>\n",
       "      <td>2999-12-31</td>\n",
       "      <td>POLYGON ((87.91687825701085 52.749265707631572...</td>\n",
       "      <td>29.0</td>\n",
       "    </tr>\n",
       "    <tr>\n",
       "      <th>4</th>\n",
       "      <td>KE1082</td>\n",
       "      <td>4.617911e+10</td>\n",
       "      <td>2G</td>\n",
       "      <td>deep indoor</td>\n",
       "      <td>2999-12-31</td>\n",
       "      <td>POLYGON ((87.91687825701085 52.749265707631572...</td>\n",
       "      <td>29.0</td>\n",
       "    </tr>\n",
       "  </tbody>\n",
       "</table>\n",
       "</div>"
      ],
      "text/plain": [
       "  BS_NAME         NE_ID STECHNOLOGY   LEVEL_NAME EFFECTIVE_TO  \\\n",
       "0  KE1082  4.617911e+10          4G       indoor   2999-12-31   \n",
       "1  KE1082  4.617911e+10          2G  deep indoor   2999-12-31   \n",
       "2  KE1082  4.617911e+10          2G        incar   2999-12-31   \n",
       "3  KE1082  4.617911e+10          2G      outdoor   2999-12-31   \n",
       "4  KE1082  4.617911e+10          2G  deep indoor   2999-12-31   \n",
       "\n",
       "                                          COVER_POLY  REGION_ID  \n",
       "0  POLYGON ((87.897091104280648 52.75930218109225...       29.0  \n",
       "1  POLYGON ((87.91687825701085 52.749265707631572...       29.0  \n",
       "2  POLYGON ((87.776533961619052 52.6855647389648,...       29.0  \n",
       "3  POLYGON ((87.91687825701085 52.749265707631572...       29.0  \n",
       "4  POLYGON ((87.91687825701085 52.749265707631572...       29.0  "
      ]
     },
     "execution_count": 6,
     "metadata": {},
     "output_type": "execute_result"
    }
   ],
   "source": [
    "df1.head()"
   ]
  },
  {
   "cell_type": "markdown",
   "metadata": {},
   "source": [
    "## Preprocessing"
   ]
  },
  {
   "cell_type": "code",
   "execution_count": 4,
   "metadata": {},
   "outputs": [],
   "source": [
    "def to_gpd_polygones(string_):\n",
    "    from re import findall\n",
    "    re_list = [float(x) for x in findall(r'[0-9]+.[0-9]+',string_)]\n",
    "    return Polygon(tuple(zip(re_list[0::2], re_list[1::2])))\n",
    "    #return (list(zip(re_list[0::2], re_list[1::2])))"
   ]
  },
  {
   "cell_type": "code",
   "execution_count": 7,
   "metadata": {},
   "outputs": [],
   "source": [
    "def to_kml_polygones(string_):\n",
    "    from re import findall\n",
    "    re_list = [float(x) for x in findall(r'[0-9]+.[0-9]+',string_)]\n",
    "    #return Polygon(tuple(zip(re_list[0::2], re_list[1::2])))\n",
    "    return (list(zip(re_list[0::2], re_list[1::2])))"
   ]
  },
  {
   "cell_type": "code",
   "execution_count": 8,
   "metadata": {},
   "outputs": [],
   "source": [
    "df1['GPD_POLYGONES'] = df1['COVER_POLY'].map(to_gpd_polygones)"
   ]
  },
  {
   "cell_type": "code",
   "execution_count": 9,
   "metadata": {},
   "outputs": [],
   "source": [
    "gdf = gpd.GeoDataFrame(df1[['NE_ID','STECHNOLOGY','LEVEL_NAME','GPD_POLYGONES']]) #'GEOTIFF_FILE_ID' ,\n",
    "#gdf = gpd.GeoDataFrame(df[['osm_id','reg_name','gks_pop','name_tag', 'WM_ID', 'GPD_POLYGONES']])"
   ]
  },
  {
   "cell_type": "code",
   "execution_count": 10,
   "metadata": {},
   "outputs": [
    {
     "data": {
      "text/html": [
       "<div>\n",
       "<style scoped>\n",
       "    .dataframe tbody tr th:only-of-type {\n",
       "        vertical-align: middle;\n",
       "    }\n",
       "\n",
       "    .dataframe tbody tr th {\n",
       "        vertical-align: top;\n",
       "    }\n",
       "\n",
       "    .dataframe thead th {\n",
       "        text-align: right;\n",
       "    }\n",
       "</style>\n",
       "<table border=\"1\" class=\"dataframe\">\n",
       "  <thead>\n",
       "    <tr style=\"text-align: right;\">\n",
       "      <th></th>\n",
       "      <th>NE_ID</th>\n",
       "      <th>STECHNOLOGY</th>\n",
       "      <th>LEVEL_NAME</th>\n",
       "      <th>GPD_POLYGONES</th>\n",
       "    </tr>\n",
       "  </thead>\n",
       "  <tbody>\n",
       "    <tr>\n",
       "      <th>0</th>\n",
       "      <td>4.617911e+10</td>\n",
       "      <td>4G</td>\n",
       "      <td>indoor</td>\n",
       "      <td>POLYGON ((87.89709110428065 52.75930218109225,...</td>\n",
       "    </tr>\n",
       "  </tbody>\n",
       "</table>\n",
       "</div>"
      ],
      "text/plain": [
       "          NE_ID STECHNOLOGY LEVEL_NAME  \\\n",
       "0  4.617911e+10          4G     indoor   \n",
       "\n",
       "                                       GPD_POLYGONES  \n",
       "0  POLYGON ((87.89709110428065 52.75930218109225,...  "
      ]
     },
     "execution_count": 10,
     "metadata": {},
     "output_type": "execute_result"
    }
   ],
   "source": [
    "gdf.head(1)"
   ]
  },
  {
   "cell_type": "code",
   "execution_count": 11,
   "metadata": {},
   "outputs": [],
   "source": [
    "gdf.set_geometry('GPD_POLYGONES')\n",
    "gdf['geometry']=gdf['GPD_POLYGONES']"
   ]
  },
  {
   "cell_type": "markdown",
   "metadata": {},
   "source": [
    "## Create KML"
   ]
  },
  {
   "cell_type": "code",
   "execution_count": 12,
   "metadata": {},
   "outputs": [
    {
     "name": "stdout",
     "output_type": "stream",
     "text": [
      "indoor\n"
     ]
    },
    {
     "ename": "KeyError",
     "evalue": "'GEOTIFF_FILE_ID'",
     "output_type": "error",
     "traceback": [
      "\u001b[1;31m---------------------------------------------------------------------------\u001b[0m",
      "\u001b[1;31mTypeError\u001b[0m                                 Traceback (most recent call last)",
      "\u001b[1;32m~\\AppData\\Local\\Continuum\\anaconda3\\lib\\site-packages\\pandas\\core\\indexes\\base.py\u001b[0m in \u001b[0;36mget_value\u001b[1;34m(self, series, key)\u001b[0m\n\u001b[0;32m   2565\u001b[0m             \u001b[1;32mtry\u001b[0m\u001b[1;33m:\u001b[0m\u001b[1;33m\u001b[0m\u001b[0m\n\u001b[1;32m-> 2566\u001b[1;33m                 \u001b[1;32mreturn\u001b[0m \u001b[0mlibts\u001b[0m\u001b[1;33m.\u001b[0m\u001b[0mget_value_box\u001b[0m\u001b[1;33m(\u001b[0m\u001b[0ms\u001b[0m\u001b[1;33m,\u001b[0m \u001b[0mkey\u001b[0m\u001b[1;33m)\u001b[0m\u001b[1;33m\u001b[0m\u001b[0m\n\u001b[0m\u001b[0;32m   2567\u001b[0m             \u001b[1;32mexcept\u001b[0m \u001b[0mIndexError\u001b[0m\u001b[1;33m:\u001b[0m\u001b[1;33m\u001b[0m\u001b[0m\n",
      "\u001b[1;32mpandas/_libs/tslib.pyx\u001b[0m in \u001b[0;36mpandas._libs.tslib.get_value_box\u001b[1;34m()\u001b[0m\n",
      "\u001b[1;32mpandas/_libs/tslib.pyx\u001b[0m in \u001b[0;36mpandas._libs.tslib.get_value_box\u001b[1;34m()\u001b[0m\n",
      "\u001b[1;31mTypeError\u001b[0m: 'str' object cannot be interpreted as an integer",
      "\nDuring handling of the above exception, another exception occurred:\n",
      "\u001b[1;31mKeyError\u001b[0m                                  Traceback (most recent call last)",
      "\u001b[1;32m<ipython-input-12-2af4f6720967>\u001b[0m in \u001b[0;36m<module>\u001b[1;34m()\u001b[0m\n\u001b[0;32m      9\u001b[0m     \u001b[1;32mfor\u001b[0m \u001b[0mindex\u001b[0m\u001b[1;33m,\u001b[0m \u001b[0mrow\u001b[0m \u001b[1;32min\u001b[0m \u001b[0mgdf_s\u001b[0m\u001b[1;33m.\u001b[0m\u001b[0miterrows\u001b[0m\u001b[1;33m(\u001b[0m\u001b[1;33m)\u001b[0m\u001b[1;33m:\u001b[0m\u001b[1;33m\u001b[0m\u001b[0m\n\u001b[0;32m     10\u001b[0m         \u001b[0mNE_ID\u001b[0m \u001b[1;33m=\u001b[0m \u001b[0mrow\u001b[0m\u001b[1;33m[\u001b[0m\u001b[1;34m'NE_ID'\u001b[0m\u001b[1;33m]\u001b[0m\u001b[1;33m\u001b[0m\u001b[0m\n\u001b[1;32m---> 11\u001b[1;33m         \u001b[0mGEOTIFF_FILE_ID\u001b[0m \u001b[1;33m=\u001b[0m \u001b[0mrow\u001b[0m\u001b[1;33m[\u001b[0m\u001b[1;34m'GEOTIFF_FILE_ID'\u001b[0m\u001b[1;33m]\u001b[0m\u001b[1;33m\u001b[0m\u001b[0m\n\u001b[0m\u001b[0;32m     12\u001b[0m         \u001b[0mSTECHNOLOGY\u001b[0m \u001b[1;33m=\u001b[0m \u001b[0mrow\u001b[0m\u001b[1;33m[\u001b[0m\u001b[1;34m'STECHNOLOGY'\u001b[0m\u001b[1;33m]\u001b[0m\u001b[1;33m\u001b[0m\u001b[0m\n\u001b[0;32m     13\u001b[0m         \u001b[0mLEVEL_NAME\u001b[0m \u001b[1;33m=\u001b[0m \u001b[0mrow\u001b[0m\u001b[1;33m[\u001b[0m\u001b[1;34m'LEVEL_NAME'\u001b[0m\u001b[1;33m]\u001b[0m\u001b[1;33m\u001b[0m\u001b[0m\n",
      "\u001b[1;32m~\\AppData\\Local\\Continuum\\anaconda3\\lib\\site-packages\\pandas\\core\\series.py\u001b[0m in \u001b[0;36m__getitem__\u001b[1;34m(self, key)\u001b[0m\n\u001b[0;32m    621\u001b[0m         \u001b[0mkey\u001b[0m \u001b[1;33m=\u001b[0m \u001b[0mcom\u001b[0m\u001b[1;33m.\u001b[0m\u001b[0m_apply_if_callable\u001b[0m\u001b[1;33m(\u001b[0m\u001b[0mkey\u001b[0m\u001b[1;33m,\u001b[0m \u001b[0mself\u001b[0m\u001b[1;33m)\u001b[0m\u001b[1;33m\u001b[0m\u001b[0m\n\u001b[0;32m    622\u001b[0m         \u001b[1;32mtry\u001b[0m\u001b[1;33m:\u001b[0m\u001b[1;33m\u001b[0m\u001b[0m\n\u001b[1;32m--> 623\u001b[1;33m             \u001b[0mresult\u001b[0m \u001b[1;33m=\u001b[0m \u001b[0mself\u001b[0m\u001b[1;33m.\u001b[0m\u001b[0mindex\u001b[0m\u001b[1;33m.\u001b[0m\u001b[0mget_value\u001b[0m\u001b[1;33m(\u001b[0m\u001b[0mself\u001b[0m\u001b[1;33m,\u001b[0m \u001b[0mkey\u001b[0m\u001b[1;33m)\u001b[0m\u001b[1;33m\u001b[0m\u001b[0m\n\u001b[0m\u001b[0;32m    624\u001b[0m \u001b[1;33m\u001b[0m\u001b[0m\n\u001b[0;32m    625\u001b[0m             \u001b[1;32mif\u001b[0m \u001b[1;32mnot\u001b[0m \u001b[0mis_scalar\u001b[0m\u001b[1;33m(\u001b[0m\u001b[0mresult\u001b[0m\u001b[1;33m)\u001b[0m\u001b[1;33m:\u001b[0m\u001b[1;33m\u001b[0m\u001b[0m\n",
      "\u001b[1;32m~\\AppData\\Local\\Continuum\\anaconda3\\lib\\site-packages\\pandas\\core\\indexes\\base.py\u001b[0m in \u001b[0;36mget_value\u001b[1;34m(self, series, key)\u001b[0m\n\u001b[0;32m   2572\u001b[0m                     \u001b[1;32mraise\u001b[0m \u001b[0mInvalidIndexError\u001b[0m\u001b[1;33m(\u001b[0m\u001b[0mkey\u001b[0m\u001b[1;33m)\u001b[0m\u001b[1;33m\u001b[0m\u001b[0m\n\u001b[0;32m   2573\u001b[0m                 \u001b[1;32melse\u001b[0m\u001b[1;33m:\u001b[0m\u001b[1;33m\u001b[0m\u001b[0m\n\u001b[1;32m-> 2574\u001b[1;33m                     \u001b[1;32mraise\u001b[0m \u001b[0me1\u001b[0m\u001b[1;33m\u001b[0m\u001b[0m\n\u001b[0m\u001b[0;32m   2575\u001b[0m             \u001b[1;32mexcept\u001b[0m \u001b[0mException\u001b[0m\u001b[1;33m:\u001b[0m  \u001b[1;31m# pragma: no cover\u001b[0m\u001b[1;33m\u001b[0m\u001b[0m\n\u001b[0;32m   2576\u001b[0m                 \u001b[1;32mraise\u001b[0m \u001b[0me1\u001b[0m\u001b[1;33m\u001b[0m\u001b[0m\n",
      "\u001b[1;32m~\\AppData\\Local\\Continuum\\anaconda3\\lib\\site-packages\\pandas\\core\\indexes\\base.py\u001b[0m in \u001b[0;36mget_value\u001b[1;34m(self, series, key)\u001b[0m\n\u001b[0;32m   2558\u001b[0m         \u001b[1;32mtry\u001b[0m\u001b[1;33m:\u001b[0m\u001b[1;33m\u001b[0m\u001b[0m\n\u001b[0;32m   2559\u001b[0m             return self._engine.get_value(s, k,\n\u001b[1;32m-> 2560\u001b[1;33m                                           tz=getattr(series.dtype, 'tz', None))\n\u001b[0m\u001b[0;32m   2561\u001b[0m         \u001b[1;32mexcept\u001b[0m \u001b[0mKeyError\u001b[0m \u001b[1;32mas\u001b[0m \u001b[0me1\u001b[0m\u001b[1;33m:\u001b[0m\u001b[1;33m\u001b[0m\u001b[0m\n\u001b[0;32m   2562\u001b[0m             \u001b[1;32mif\u001b[0m \u001b[0mlen\u001b[0m\u001b[1;33m(\u001b[0m\u001b[0mself\u001b[0m\u001b[1;33m)\u001b[0m \u001b[1;33m>\u001b[0m \u001b[1;36m0\u001b[0m \u001b[1;32mand\u001b[0m \u001b[0mself\u001b[0m\u001b[1;33m.\u001b[0m\u001b[0minferred_type\u001b[0m \u001b[1;32min\u001b[0m \u001b[1;33m[\u001b[0m\u001b[1;34m'integer'\u001b[0m\u001b[1;33m,\u001b[0m \u001b[1;34m'boolean'\u001b[0m\u001b[1;33m]\u001b[0m\u001b[1;33m:\u001b[0m\u001b[1;33m\u001b[0m\u001b[0m\n",
      "\u001b[1;32mpandas/_libs/index.pyx\u001b[0m in \u001b[0;36mpandas._libs.index.IndexEngine.get_value\u001b[1;34m()\u001b[0m\n",
      "\u001b[1;32mpandas/_libs/index.pyx\u001b[0m in \u001b[0;36mpandas._libs.index.IndexEngine.get_value\u001b[1;34m()\u001b[0m\n",
      "\u001b[1;32mpandas/_libs/index.pyx\u001b[0m in \u001b[0;36mpandas._libs.index.IndexEngine.get_loc\u001b[1;34m()\u001b[0m\n",
      "\u001b[1;32mpandas/_libs/hashtable_class_helper.pxi\u001b[0m in \u001b[0;36mpandas._libs.hashtable.PyObjectHashTable.get_item\u001b[1;34m()\u001b[0m\n",
      "\u001b[1;32mpandas/_libs/hashtable_class_helper.pxi\u001b[0m in \u001b[0;36mpandas._libs.hashtable.PyObjectHashTable.get_item\u001b[1;34m()\u001b[0m\n",
      "\u001b[1;31mKeyError\u001b[0m: 'GEOTIFF_FILE_ID'"
     ]
    }
   ],
   "source": [
    "kml = simplekml.Kml()\n",
    "\n",
    "for level in gdf.loc[:,u\"LEVEL_NAME\"].unique():\n",
    "    print(level)\n",
    "    fol = kml.newfolder(name=level)\n",
    "    \n",
    "    gdf_s = gdf.loc[gdf[u\"LEVEL_NAME\"]==level,:].iloc[:,0:len(gdf)]\n",
    "    \n",
    "    for index, row in gdf_s.iterrows():\n",
    "        NE_ID = row['NE_ID']\n",
    "        GEOTIFF_FILE_ID = row['GEOTIFF_FILE_ID']\n",
    "        STECHNOLOGY = row['STECHNOLOGY']\n",
    "        LEVEL_NAME = row['LEVEL_NAME']\n",
    "        POLYGON = to_kml_polygones(str(row['geometry']))\n",
    "        #POLYGON = str(row['geometry'])\n",
    "\n",
    "        descr = 'GEOTIFF_FILE_ID = '+str(GEOTIFF_FILE_ID)+('\\n')\\\n",
    "                +'STECHNOLOGY = '+str(STECHNOLOGY)+('\\n')+'LEVEL_NAME = '+str(LEVEL_NAME)\n",
    " \n",
    "\n",
    "        \n",
    "        pol = fol.newpolygon(name=str(NE_ID), description=descr,\n",
    "                             outerboundaryis=POLYGON)\n",
    "        pol.style.linestyle.color = simplekml.Color.yellow\n",
    "        pol.style.linestyle.width = 1\n",
    "        pol.style.polystyle.color = simplekml.Color.changealphaint(100, simplekml.Color.yellow)"
   ]
  },
  {
   "cell_type": "code",
   "execution_count": 314,
   "metadata": {},
   "outputs": [],
   "source": [
    "kml.save(\"contains_all.kml\")"
   ]
  },
  {
   "cell_type": "code",
   "execution_count": null,
   "metadata": {},
   "outputs": [],
   "source": []
  },
  {
   "cell_type": "code",
   "execution_count": null,
   "metadata": {},
   "outputs": [],
   "source": []
  },
  {
   "cell_type": "code",
   "execution_count": null,
   "metadata": {},
   "outputs": [],
   "source": []
  },
  {
   "cell_type": "code",
   "execution_count": null,
   "metadata": {},
   "outputs": [],
   "source": []
  },
  {
   "cell_type": "code",
   "execution_count": null,
   "metadata": {},
   "outputs": [],
   "source": []
  }
 ],
 "metadata": {
  "kernelspec": {
   "display_name": "Python 3",
   "language": "python",
   "name": "python3"
  },
  "language_info": {
   "codemirror_mode": {
    "name": "ipython",
    "version": 3
   },
   "file_extension": ".py",
   "mimetype": "text/x-python",
   "name": "python",
   "nbconvert_exporter": "python",
   "pygments_lexer": "ipython3",
   "version": "3.6.4"
  }
 },
 "nbformat": 4,
 "nbformat_minor": 2
}
